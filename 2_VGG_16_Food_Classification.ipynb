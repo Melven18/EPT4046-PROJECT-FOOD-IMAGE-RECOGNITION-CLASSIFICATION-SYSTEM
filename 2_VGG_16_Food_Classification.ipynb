{
  "cells": [
    {
      "cell_type": "code",
      "execution_count": null,
      "metadata": {
        "id": "mooNVMXSFJ1s"
      },
      "outputs": [],
      "source": [
        "import tensorflow"
      ]
    },
    {
      "cell_type": "code",
      "execution_count": null,
      "metadata": {
        "colab": {
          "base_uri": "https://localhost:8080/"
        },
        "id": "I3WEqcTiFLPC",
        "outputId": "15ffda37-5b38-4f8d-cf2a-d3694eea5e40"
      },
      "outputs": [
        {
          "output_type": "stream",
          "name": "stdout",
          "text": [
            "Tensorflow-version: 2.8.0\n",
            "Mounted at /content/drive/\n"
          ]
        }
      ],
      "source": [
        "import pandas as pd\n",
        "import numpy as np\n",
        "import os\n",
        "import keras\n",
        "import random\n",
        "import cv2\n",
        "import math\n",
        "import seaborn as sns\n",
        "\n",
        "import matplotlib.pyplot as plt\n",
        "\n",
        "from keras.layers import Dense,GlobalAveragePooling2D,Convolution2D,BatchNormalization\n",
        "from keras.layers import Flatten,MaxPooling2D,Dropout\n",
        "\n",
        "from keras.preprocessing import image\n",
        "from keras.preprocessing.image import ImageDataGenerator\n",
        "\n",
        "from keras.models import Model, load_model\n",
        "\n",
        "from keras.callbacks import ModelCheckpoint, ReduceLROnPlateau\n",
        "\n",
        "import warnings\n",
        "warnings.filterwarnings(\"ignore\")\n",
        "\n",
        "print(\"Tensorflow-version:\", tensorflow.__version__)\n",
        "\n",
        "import cv2\n",
        "from google.colab.patches import cv2_imshow\n",
        "\n",
        "from google.colab import drive\n",
        "drive.mount(\"/content/drive/\")"
      ]
    },
    {
      "cell_type": "code",
      "execution_count": null,
      "metadata": {
        "id": "yoFyde2IFMsg",
        "colab": {
          "base_uri": "https://localhost:8080/"
        },
        "outputId": "548550b5-f027-4971-cce7-71f659ba7121"
      },
      "outputs": [
        {
          "output_type": "stream",
          "name": "stdout",
          "text": [
            "`%tensorflow_version` only switches the major version: 1.x or 2.x.\n",
            "You set: `2.0`. This will be interpreted as: `2.x`.\n",
            "\n",
            "\n",
            "TensorFlow is already loaded. Please restart the runtime to change versions.\n",
            "Found GPU at: /device:GPU:0\n"
          ]
        }
      ],
      "source": [
        "%tensorflow_version 2.0\n",
        "import tensorflow as tf\n",
        "device_name = tf.test.gpu_device_name()\n",
        "if device_name != '/device:GPU:0':\n",
        "  raise SystemError('GPU device not found')\n",
        "print('Found GPU at: {}'.format(device_name))"
      ]
    },
    {
      "cell_type": "code",
      "execution_count": null,
      "metadata": {
        "id": "hiekzvztFOFe",
        "colab": {
          "base_uri": "https://localhost:8080/"
        },
        "outputId": "24894bf7-4155-4ae5-f445-42281872b720"
      },
      "outputs": [
        {
          "output_type": "stream",
          "name": "stdout",
          "text": [
            "Time (s) to convolve 32x7x7x3 filter over random 100x100x100x3 images (batch x height x width x channel). Sum of ten runs.\n",
            "CPU (s):\n",
            "3.835387566999998\n",
            "GPU (s):\n",
            "0.05095893499998283\n",
            "GPU speedup over CPU: 75x\n"
          ]
        }
      ],
      "source": [
        "%tensorflow_version 2.x\n",
        "import tensorflow as tf\n",
        "import timeit\n",
        "\n",
        "device_name = tf.test.gpu_device_name()\n",
        "if device_name != '/device:GPU:0':\n",
        "  print(\n",
        "      '\\n\\nThis error most likely means that this notebook is not '\n",
        "      'configured to use a GPU.  Change this in Notebook Settings via the '\n",
        "      'command palette (cmd/ctrl-shift-P) or the Edit menu.\\n\\n')\n",
        "  raise SystemError('GPU device not found')\n",
        "\n",
        "def cpu():\n",
        "  with tf.device('/cpu:0'):\n",
        "    random_image_cpu = tf.random.normal((100, 100, 100, 3))\n",
        "    net_cpu = tf.keras.layers.Conv2D(32, 7)(random_image_cpu)\n",
        "    return tf.math.reduce_sum(net_cpu)\n",
        "\n",
        "def gpu():\n",
        "  with tf.device('/device:GPU:0'):\n",
        "    random_image_gpu = tf.random.normal((100, 100, 100, 3))\n",
        "    net_gpu = tf.keras.layers.Conv2D(32, 7)(random_image_gpu)\n",
        "    return tf.math.reduce_sum(net_gpu)\n",
        "  \n",
        "# We run each op once to warm up; see: https://stackoverflow.com/a/45067900\n",
        "cpu()\n",
        "gpu()\n",
        "\n",
        "# Run the op several times.\n",
        "print('Time (s) to convolve 32x7x7x3 filter over random 100x100x100x3 images '\n",
        "      '(batch x height x width x channel). Sum of ten runs.')\n",
        "print('CPU (s):')\n",
        "cpu_time = timeit.timeit('cpu()', number=10, setup=\"from __main__ import cpu\")\n",
        "print(cpu_time)\n",
        "print('GPU (s):')\n",
        "gpu_time = timeit.timeit('gpu()', number=10, setup=\"from __main__ import gpu\")\n",
        "print(gpu_time)\n",
        "print('GPU speedup over CPU: {}x'.format(int(cpu_time/gpu_time)))"
      ]
    },
    {
      "cell_type": "markdown",
      "metadata": {
        "id": "Aqb6LAI0FSK0"
      },
      "source": [
        "# **Accessing the Dataset**"
      ]
    },
    {
      "cell_type": "code",
      "execution_count": null,
      "metadata": {
        "id": "fvrjiu8rFUbH"
      },
      "outputs": [],
      "source": [
        "os.getcwd()\n",
        "os.chdir(\"/content/drive/My Drive/Food-11 image dataset/\")\n",
        "target_labels = [\"Bread\", \n",
        "                 \"Dairy product\", \n",
        "                 \"Dessert\", \n",
        "                 \"Egg\", \n",
        "                 \"Fried food\", \n",
        "                 \"Meat\", \n",
        "                 \"Noodles-Pasta\", \n",
        "                 \"Rice\", \n",
        "                 \"Seafood\", \n",
        "                 \"Soup\", \n",
        "                 \"Vegetable-Fruit\"]\n",
        "path = \"/content/drive/My Drive/Food-11 image dataset/\""
      ]
    },
    {
      "cell_type": "code",
      "execution_count": null,
      "metadata": {
        "id": "ThIZMSB9FV3f"
      },
      "outputs": [],
      "source": [
        "from keras.preprocessing.image import ImageDataGenerator\n",
        "from keras.applications.vgg16 import preprocess_input\n",
        "from keras.applications import vgg16 "
      ]
    },
    {
      "cell_type": "code",
      "source": [
        "from keras.preprocessing.image import ImageDataGenerator\n",
        "\n",
        "datagen = ImageDataGenerator(\n",
        "        rotation_range=40,\n",
        "        width_shift_range=0.2,\n",
        "        height_shift_range=0.2,\n",
        "        rescale=1./255,\n",
        "        shear_range=0.2,\n",
        "        zoom_range=0.2,\n",
        "        horizontal_flip=True,\n",
        "        fill_mode='nearest')"
      ],
      "metadata": {
        "id": "kBvVh99ekUW9"
      },
      "execution_count": null,
      "outputs": []
    },
    {
      "cell_type": "code",
      "execution_count": null,
      "metadata": {
        "id": "ir0xmuo3F8co"
      },
      "outputs": [],
      "source": [
        "train_datagen = ImageDataGenerator(\n",
        "        rotation_range=40,\n",
        "        width_shift_range=0.2,\n",
        "        height_shift_range=0.2,\n",
        "        shear_range=0.2,\n",
        "        zoom_range=0.2,\n",
        "        horizontal_flip=True,\n",
        "        fill_mode='nearest',\n",
        "        preprocessing_function=vgg16.preprocess_input\n",
        "        )\n",
        "\n",
        "validate_datagen = ImageDataGenerator( \n",
        "    preprocessing_function = vgg16.preprocess_input\n",
        "                                      )\n",
        "\n",
        "test_datagen = ImageDataGenerator(\n",
        "    preprocessing_function= vgg16.preprocess_input\n",
        "    )"
      ]
    },
    {
      "cell_type": "code",
      "execution_count": null,
      "metadata": {
        "id": "1g8-G1OYGDch"
      },
      "outputs": [],
      "source": [
        "BATCH_SIZE=64"
      ]
    },
    {
      "cell_type": "code",
      "execution_count": null,
      "metadata": {
        "colab": {
          "base_uri": "https://localhost:8080/"
        },
        "id": "WP1N9fuhF_jV",
        "outputId": "6c830bec-22e9-4716-d4df-88f9ffc33b0b"
      },
      "outputs": [
        {
          "output_type": "stream",
          "name": "stdout",
          "text": [
            "Found 9866 images belonging to 11 classes.\n",
            "Found 3430 images belonging to 11 classes.\n",
            "Found 3347 images belonging to 11 classes.\n"
          ]
        }
      ],
      "source": [
        "train_generator = train_datagen.flow_from_directory(path+\"training\",\n",
        "                                               target_size=(224, 224),\n",
        "                                               class_mode='categorical',\n",
        "                                               classes= target_labels,\n",
        "                                               batch_size=BATCH_SIZE, \n",
        "                                               shuffle=True,\n",
        "                                               seed=42)\n",
        "\n",
        "validate_generator = validate_datagen.flow_from_directory(path+\"validation\",\n",
        "                                               target_size=(224, 224),\n",
        "                                               class_mode='categorical',\n",
        "                                               classes= target_labels,\n",
        "                                               batch_size=BATCH_SIZE, \n",
        "                                               shuffle=True,\n",
        "                                               seed=42)\n",
        "\n",
        "test_generator = test_datagen.flow_from_directory(path+\"evaluation\",\n",
        "                                             target_size=(224, 224),\n",
        "                                             class_mode=None,\n",
        "                                             classes= target_labels,\n",
        "                                             batch_size=BATCH_SIZE,\n",
        "                                             shuffle=False,\n",
        "                                             seed=42)"
      ]
    },
    {
      "cell_type": "markdown",
      "metadata": {
        "id": "JCt3_VdOGEZi"
      },
      "source": [
        "# **VGG-16**"
      ]
    },
    {
      "cell_type": "code",
      "execution_count": null,
      "metadata": {
        "id": "RAVM1e1MGBRu"
      },
      "outputs": [],
      "source": [
        "from tensorflow.keras.applications import VGG16\n",
        "from keras.layers import Dense,GlobalAveragePooling2D,Convolution2D,BatchNormalization\n",
        "from keras.layers import Flatten,MaxPooling2D,Dropout\n",
        "from keras.models import Model"
      ]
    },
    {
      "cell_type": "code",
      "execution_count": null,
      "metadata": {
        "id": "kmBoblvGGK7j",
        "colab": {
          "base_uri": "https://localhost:8080/"
        },
        "outputId": "0f973fd4-cd66-4422-a4d7-b77f47c793d1"
      },
      "outputs": [
        {
          "output_type": "stream",
          "name": "stdout",
          "text": [
            "Downloading data from https://storage.googleapis.com/tensorflow/keras-applications/vgg16/vgg16_weights_tf_dim_ordering_tf_kernels_notop.h5\n",
            "58892288/58889256 [==============================] - 0s 0us/step\n",
            "58900480/58889256 [==============================] - 0s 0us/step\n"
          ]
        }
      ],
      "source": [
        "basemodel= VGG16(\n",
        "    weights='imagenet', \n",
        "    include_top=False, \n",
        "    input_shape=(224, 224, 3)\n",
        "    )"
      ]
    },
    {
      "cell_type": "code",
      "execution_count": null,
      "metadata": {
        "colab": {
          "base_uri": "https://localhost:8080/"
        },
        "id": "rW1ITWYOGOuR",
        "outputId": "88ebf639-3c29-4e1e-8630-02de9759999a"
      },
      "outputs": [
        {
          "output_type": "stream",
          "name": "stdout",
          "text": [
            "Model: \"vgg16\"\n",
            "_________________________________________________________________\n",
            " Layer (type)                Output Shape              Param #   \n",
            "=================================================================\n",
            " input_1 (InputLayer)        [(None, 224, 224, 3)]     0         \n",
            "                                                                 \n",
            " block1_conv1 (Conv2D)       (None, 224, 224, 64)      1792      \n",
            "                                                                 \n",
            " block1_conv2 (Conv2D)       (None, 224, 224, 64)      36928     \n",
            "                                                                 \n",
            " block1_pool (MaxPooling2D)  (None, 112, 112, 64)      0         \n",
            "                                                                 \n",
            " block2_conv1 (Conv2D)       (None, 112, 112, 128)     73856     \n",
            "                                                                 \n",
            " block2_conv2 (Conv2D)       (None, 112, 112, 128)     147584    \n",
            "                                                                 \n",
            " block2_pool (MaxPooling2D)  (None, 56, 56, 128)       0         \n",
            "                                                                 \n",
            " block3_conv1 (Conv2D)       (None, 56, 56, 256)       295168    \n",
            "                                                                 \n",
            " block3_conv2 (Conv2D)       (None, 56, 56, 256)       590080    \n",
            "                                                                 \n",
            " block3_conv3 (Conv2D)       (None, 56, 56, 256)       590080    \n",
            "                                                                 \n",
            " block3_pool (MaxPooling2D)  (None, 28, 28, 256)       0         \n",
            "                                                                 \n",
            " block4_conv1 (Conv2D)       (None, 28, 28, 512)       1180160   \n",
            "                                                                 \n",
            " block4_conv2 (Conv2D)       (None, 28, 28, 512)       2359808   \n",
            "                                                                 \n",
            " block4_conv3 (Conv2D)       (None, 28, 28, 512)       2359808   \n",
            "                                                                 \n",
            " block4_pool (MaxPooling2D)  (None, 14, 14, 512)       0         \n",
            "                                                                 \n",
            " block5_conv1 (Conv2D)       (None, 14, 14, 512)       2359808   \n",
            "                                                                 \n",
            " block5_conv2 (Conv2D)       (None, 14, 14, 512)       2359808   \n",
            "                                                                 \n",
            " block5_conv3 (Conv2D)       (None, 14, 14, 512)       2359808   \n",
            "                                                                 \n",
            " block5_pool (MaxPooling2D)  (None, 7, 7, 512)         0         \n",
            "                                                                 \n",
            "=================================================================\n",
            "Total params: 14,714,688\n",
            "Trainable params: 14,714,688\n",
            "Non-trainable params: 0\n",
            "_________________________________________________________________\n"
          ]
        }
      ],
      "source": [
        "basemodel.summary()"
      ]
    },
    {
      "cell_type": "code",
      "execution_count": null,
      "metadata": {
        "id": "3VKPpsp7GMw8"
      },
      "outputs": [],
      "source": [
        "for layer in basemodel.layers:\n",
        "\tlayer.trainable = False"
      ]
    },
    {
      "cell_type": "code",
      "execution_count": null,
      "metadata": {
        "id": "ZGiV3eWyGRZ3"
      },
      "outputs": [],
      "source": [
        "x=basemodel.output\n",
        "\n",
        "x= GlobalAveragePooling2D()(x)\n",
        "x= BatchNormalization()(x)\n",
        "x= Dropout(0.5)(x)\n",
        "x= Dense(1024,activation='relu')(x) \n",
        "x= Dense(512,activation='relu')(x) \n",
        "x= BatchNormalization()(x)\n",
        "x= Dropout(0.5)(x)\n",
        "\n",
        "preds=Dense(11,activation='softmax')(x) #FC-layer"
      ]
    },
    {
      "cell_type": "code",
      "execution_count": null,
      "metadata": {
        "colab": {
          "base_uri": "https://localhost:8080/"
        },
        "id": "RmMcJ2fsGTKK",
        "outputId": "56056a58-16c9-4f1a-fb46-25680e5a767f"
      },
      "outputs": [
        {
          "output_type": "stream",
          "name": "stdout",
          "text": [
            "Model: \"model\"\n",
            "_________________________________________________________________\n",
            " Layer (type)                Output Shape              Param #   \n",
            "=================================================================\n",
            " input_1 (InputLayer)        [(None, 224, 224, 3)]     0         \n",
            "                                                                 \n",
            " block1_conv1 (Conv2D)       (None, 224, 224, 64)      1792      \n",
            "                                                                 \n",
            " block1_conv2 (Conv2D)       (None, 224, 224, 64)      36928     \n",
            "                                                                 \n",
            " block1_pool (MaxPooling2D)  (None, 112, 112, 64)      0         \n",
            "                                                                 \n",
            " block2_conv1 (Conv2D)       (None, 112, 112, 128)     73856     \n",
            "                                                                 \n",
            " block2_conv2 (Conv2D)       (None, 112, 112, 128)     147584    \n",
            "                                                                 \n",
            " block2_pool (MaxPooling2D)  (None, 56, 56, 128)       0         \n",
            "                                                                 \n",
            " block3_conv1 (Conv2D)       (None, 56, 56, 256)       295168    \n",
            "                                                                 \n",
            " block3_conv2 (Conv2D)       (None, 56, 56, 256)       590080    \n",
            "                                                                 \n",
            " block3_conv3 (Conv2D)       (None, 56, 56, 256)       590080    \n",
            "                                                                 \n",
            " block3_pool (MaxPooling2D)  (None, 28, 28, 256)       0         \n",
            "                                                                 \n",
            " block4_conv1 (Conv2D)       (None, 28, 28, 512)       1180160   \n",
            "                                                                 \n",
            " block4_conv2 (Conv2D)       (None, 28, 28, 512)       2359808   \n",
            "                                                                 \n",
            " block4_conv3 (Conv2D)       (None, 28, 28, 512)       2359808   \n",
            "                                                                 \n",
            " block4_pool (MaxPooling2D)  (None, 14, 14, 512)       0         \n",
            "                                                                 \n",
            " block5_conv1 (Conv2D)       (None, 14, 14, 512)       2359808   \n",
            "                                                                 \n",
            " block5_conv2 (Conv2D)       (None, 14, 14, 512)       2359808   \n",
            "                                                                 \n",
            " block5_conv3 (Conv2D)       (None, 14, 14, 512)       2359808   \n",
            "                                                                 \n",
            " block5_pool (MaxPooling2D)  (None, 7, 7, 512)         0         \n",
            "                                                                 \n",
            " global_average_pooling2d (G  (None, 512)              0         \n",
            " lobalAveragePooling2D)                                          \n",
            "                                                                 \n",
            " batch_normalization (BatchN  (None, 512)              2048      \n",
            " ormalization)                                                   \n",
            "                                                                 \n",
            " dropout (Dropout)           (None, 512)               0         \n",
            "                                                                 \n",
            " dense (Dense)               (None, 1024)              525312    \n",
            "                                                                 \n",
            " dense_1 (Dense)             (None, 512)               524800    \n",
            "                                                                 \n",
            " batch_normalization_1 (Batc  (None, 512)              2048      \n",
            " hNormalization)                                                 \n",
            "                                                                 \n",
            " dropout_1 (Dropout)         (None, 512)               0         \n",
            "                                                                 \n",
            " dense_2 (Dense)             (None, 11)                5643      \n",
            "                                                                 \n",
            "=================================================================\n",
            "Total params: 15,774,539\n",
            "Trainable params: 1,057,803\n",
            "Non-trainable params: 14,716,736\n",
            "_________________________________________________________________\n"
          ]
        }
      ],
      "source": [
        "model=Model(inputs=basemodel.input,outputs=preds)\n",
        "model.summary()"
      ]
    },
    {
      "cell_type": "markdown",
      "metadata": {
        "id": "ZDegmLMwG65b"
      },
      "source": [
        "# **Compile the Model**"
      ]
    },
    {
      "cell_type": "code",
      "execution_count": null,
      "metadata": {
        "id": "xuXjSyuCG9Tx"
      },
      "outputs": [],
      "source": [
        "from tensorflow.keras.optimizers import Adam\n",
        "\n",
        "opt =  tensorflow.keras.optimizers.Adam(learning_rate=.01)\n",
        "model.compile(\n",
        "    optimizer=opt,\n",
        "    loss='categorical_crossentropy', \n",
        "    metrics=['accuracy']\n",
        ")"
      ]
    },
    {
      "cell_type": "code",
      "execution_count": null,
      "metadata": {
        "id": "y8IG89KmG-wL"
      },
      "outputs": [],
      "source": [
        "from keras.callbacks import ModelCheckpoint\n",
        "\n",
        "filepath = \"/content/drive/My Drive/Food-11 image dataset/MODEL_VGG-16-{epoch:02d}-{val_accuracy:.2f}.hdf5\"\n",
        "# the ModelCheckpoint mentioned here will save the model after an epoch if the \"val-accuracy\" has increased. \n",
        "checkpoint = ModelCheckpoint(filepath, monitor='val_accuracy', verbose=1, save_best_only=True, mode='max')"
      ]
    },
    {
      "cell_type": "code",
      "source": [
        "from keras.callbacks import EarlyStopping\n",
        "earlystopping = EarlyStopping(\n",
        "    monitor = 'val_accuracy', \n",
        "    min_delta = 0.01,\n",
        "    patience = 10,\n",
        "    restore_best_weights = True,\n",
        ")"
      ],
      "metadata": {
        "id": "qQ2XDzC80OOX"
      },
      "execution_count": null,
      "outputs": []
    },
    {
      "cell_type": "code",
      "execution_count": null,
      "metadata": {
        "colab": {
          "base_uri": "https://localhost:8080/"
        },
        "id": "aNusjE-sHGUU",
        "outputId": "2a3fadee-7516-4466-b2f3-0f35c35b0e87"
      },
      "outputs": [
        {
          "output_type": "stream",
          "name": "stdout",
          "text": [
            "Epoch 1/15\n",
            "154/154 [==============================] - ETA: 0s - loss: 1.3625 - accuracy: 0.5917 \n",
            "Epoch 1: val_accuracy improved from -inf to 0.71963, saving model to /content/drive/My Drive/Food-11 image dataset/MODEL_VGG-16-01-0.72.hdf5\n",
            "154/154 [==============================] - 3563s 23s/step - loss: 1.3625 - accuracy: 0.5917 - val_loss: 0.9665 - val_accuracy: 0.7196\n",
            "Epoch 2/15\n",
            "154/154 [==============================] - ETA: 0s - loss: 0.9775 - accuracy: 0.6751\n",
            "Epoch 2: val_accuracy improved from 0.71963 to 0.79068, saving model to /content/drive/My Drive/Food-11 image dataset/MODEL_VGG-16-02-0.79.hdf5\n",
            "154/154 [==============================] - 259s 2s/step - loss: 0.9775 - accuracy: 0.6751 - val_loss: 0.6641 - val_accuracy: 0.7907\n",
            "Epoch 3/15\n",
            "154/154 [==============================] - ETA: 0s - loss: 0.8813 - accuracy: 0.7077\n",
            "Epoch 3: val_accuracy did not improve from 0.79068\n",
            "154/154 [==============================] - 262s 2s/step - loss: 0.8813 - accuracy: 0.7077 - val_loss: 0.8713 - val_accuracy: 0.7709\n",
            "Epoch 4/15\n",
            "154/154 [==============================] - ETA: 0s - loss: 0.8587 - accuracy: 0.7148\n",
            "Epoch 4: val_accuracy did not improve from 0.79068\n",
            "154/154 [==============================] - 264s 2s/step - loss: 0.8587 - accuracy: 0.7148 - val_loss: 0.6225 - val_accuracy: 0.7904\n",
            "Epoch 5/15\n",
            "154/154 [==============================] - ETA: 0s - loss: 0.8161 - accuracy: 0.7275\n",
            "Epoch 5: val_accuracy improved from 0.79068 to 0.80719, saving model to /content/drive/My Drive/Food-11 image dataset/MODEL_VGG-16-05-0.81.hdf5\n",
            "154/154 [==============================] - 262s 2s/step - loss: 0.8161 - accuracy: 0.7275 - val_loss: 0.5803 - val_accuracy: 0.8072\n",
            "Epoch 6/15\n",
            "154/154 [==============================] - ETA: 0s - loss: 0.7783 - accuracy: 0.7406\n",
            "Epoch 6: val_accuracy improved from 0.80719 to 0.80837, saving model to /content/drive/My Drive/Food-11 image dataset/MODEL_VGG-16-06-0.81.hdf5\n",
            "154/154 [==============================] - 262s 2s/step - loss: 0.7783 - accuracy: 0.7406 - val_loss: 0.5789 - val_accuracy: 0.8084\n",
            "Epoch 7/15\n",
            "154/154 [==============================] - ETA: 0s - loss: 0.7776 - accuracy: 0.7402\n",
            "Epoch 7: val_accuracy improved from 0.80837 to 0.81604, saving model to /content/drive/My Drive/Food-11 image dataset/MODEL_VGG-16-07-0.82.hdf5\n",
            "154/154 [==============================] - 262s 2s/step - loss: 0.7776 - accuracy: 0.7402 - val_loss: 0.5753 - val_accuracy: 0.8160\n",
            "Epoch 8/15\n",
            "154/154 [==============================] - ETA: 0s - loss: 0.7639 - accuracy: 0.7459\n",
            "Epoch 8: val_accuracy did not improve from 0.81604\n",
            "154/154 [==============================] - 263s 2s/step - loss: 0.7639 - accuracy: 0.7459 - val_loss: 0.5954 - val_accuracy: 0.8084\n",
            "Epoch 9/15\n",
            "154/154 [==============================] - ETA: 0s - loss: 0.7659 - accuracy: 0.7409\n",
            "Epoch 9: val_accuracy did not improve from 0.81604\n",
            "154/154 [==============================] - 267s 2s/step - loss: 0.7659 - accuracy: 0.7409 - val_loss: 0.7425 - val_accuracy: 0.7789\n",
            "Epoch 10/15\n",
            "154/154 [==============================] - ETA: 0s - loss: 0.7293 - accuracy: 0.7597\n",
            "Epoch 10: val_accuracy improved from 0.81604 to 0.83815, saving model to /content/drive/My Drive/Food-11 image dataset/MODEL_VGG-16-10-0.84.hdf5\n",
            "154/154 [==============================] - 264s 2s/step - loss: 0.7293 - accuracy: 0.7597 - val_loss: 0.5166 - val_accuracy: 0.8381\n",
            "Epoch 11/15\n",
            "154/154 [==============================] - ETA: 0s - loss: 0.7286 - accuracy: 0.7546\n",
            "Epoch 11: val_accuracy did not improve from 0.83815\n",
            "154/154 [==============================] - 258s 2s/step - loss: 0.7286 - accuracy: 0.7546 - val_loss: 0.5284 - val_accuracy: 0.8269\n",
            "Epoch 12/15\n",
            "154/154 [==============================] - ETA: 0s - loss: 0.7196 - accuracy: 0.7613\n",
            "Epoch 12: val_accuracy did not improve from 0.83815\n",
            "154/154 [==============================] - 257s 2s/step - loss: 0.7196 - accuracy: 0.7613 - val_loss: 0.5098 - val_accuracy: 0.8355\n",
            "Epoch 13/15\n",
            "154/154 [==============================] - ETA: 0s - loss: 0.7045 - accuracy: 0.7632\n",
            "Epoch 13: val_accuracy did not improve from 0.83815\n",
            "154/154 [==============================] - 257s 2s/step - loss: 0.7045 - accuracy: 0.7632 - val_loss: 0.5155 - val_accuracy: 0.8272\n",
            "Epoch 14/15\n",
            "154/154 [==============================] - ETA: 0s - loss: 0.7074 - accuracy: 0.7643\n",
            "Epoch 14: val_accuracy did not improve from 0.83815\n",
            "154/154 [==============================] - 257s 2s/step - loss: 0.7074 - accuracy: 0.7643 - val_loss: 0.5548 - val_accuracy: 0.8116\n",
            "Epoch 15/15\n",
            "154/154 [==============================] - ETA: 0s - loss: 0.6858 - accuracy: 0.7720\n",
            "Epoch 15: val_accuracy did not improve from 0.83815\n",
            "154/154 [==============================] - 259s 2s/step - loss: 0.6858 - accuracy: 0.7720 - val_loss: 0.5461 - val_accuracy: 0.8131\n"
          ]
        }
      ],
      "source": [
        "vgg16_history = model.fit(\n",
        "    train_generator, \n",
        "    batch_size=BATCH_SIZE,\n",
        "    steps_per_epoch = train_generator.n//train_generator.batch_size, \n",
        "    epochs = 15,  \n",
        "    validation_data = validate_generator,\n",
        "    validation_steps = validate_generator.n // validate_generator.batch_size,\n",
        "    callbacks = [checkpoint, earlystopping],\n",
        "    verbose=1\n",
        ")"
      ]
    },
    {
      "cell_type": "code",
      "execution_count": null,
      "metadata": {
        "id": "PguqbkudHI7X"
      },
      "outputs": [],
      "source": [
        "# converting the epochs history to data frame and saving in drive\n",
        "vgg16_history_frame = pd.DataFrame(vgg16_history.history)"
      ]
    },
    {
      "cell_type": "code",
      "execution_count": null,
      "metadata": {
        "id": "MKrJJThrHMs-"
      },
      "outputs": [],
      "source": [
        "vgg16_history_frame.to_csv(\"vgg16_history.csv\")\n",
        "!cp vgg16_history.csv path"
      ]
    },
    {
      "cell_type": "code",
      "execution_count": null,
      "metadata": {
        "id": "pvlvPJdCHYUw",
        "colab": {
          "base_uri": "https://localhost:8080/",
          "height": 112
        },
        "outputId": "7b462ed3-7a75-45d6-eb5f-5bdb6b6d0754"
      },
      "outputs": [
        {
          "output_type": "execute_result",
          "data": {
            "text/html": [
              "\n",
              "  <div id=\"df-fdfb1688-4897-451d-8c4f-4fbe1cffe363\">\n",
              "    <div class=\"colab-df-container\">\n",
              "      <div>\n",
              "<style scoped>\n",
              "    .dataframe tbody tr th:only-of-type {\n",
              "        vertical-align: middle;\n",
              "    }\n",
              "\n",
              "    .dataframe tbody tr th {\n",
              "        vertical-align: top;\n",
              "    }\n",
              "\n",
              "    .dataframe thead th {\n",
              "        text-align: right;\n",
              "    }\n",
              "</style>\n",
              "<table border=\"1\" class=\"dataframe\">\n",
              "  <thead>\n",
              "    <tr style=\"text-align: right;\">\n",
              "      <th></th>\n",
              "      <th>Unnamed: 0</th>\n",
              "      <th>loss</th>\n",
              "      <th>accuracy</th>\n",
              "      <th>val_loss</th>\n",
              "      <th>val_accuracy</th>\n",
              "    </tr>\n",
              "  </thead>\n",
              "  <tbody>\n",
              "    <tr>\n",
              "      <th>1</th>\n",
              "      <td>0</td>\n",
              "      <td>1.362457</td>\n",
              "      <td>0.591716</td>\n",
              "      <td>0.966463</td>\n",
              "      <td>0.719634</td>\n",
              "    </tr>\n",
              "    <tr>\n",
              "      <th>2</th>\n",
              "      <td>1</td>\n",
              "      <td>0.977542</td>\n",
              "      <td>0.675066</td>\n",
              "      <td>0.664124</td>\n",
              "      <td>0.790684</td>\n",
              "    </tr>\n",
              "  </tbody>\n",
              "</table>\n",
              "</div>\n",
              "      <button class=\"colab-df-convert\" onclick=\"convertToInteractive('df-fdfb1688-4897-451d-8c4f-4fbe1cffe363')\"\n",
              "              title=\"Convert this dataframe to an interactive table.\"\n",
              "              style=\"display:none;\">\n",
              "        \n",
              "  <svg xmlns=\"http://www.w3.org/2000/svg\" height=\"24px\"viewBox=\"0 0 24 24\"\n",
              "       width=\"24px\">\n",
              "    <path d=\"M0 0h24v24H0V0z\" fill=\"none\"/>\n",
              "    <path d=\"M18.56 5.44l.94 2.06.94-2.06 2.06-.94-2.06-.94-.94-2.06-.94 2.06-2.06.94zm-11 1L8.5 8.5l.94-2.06 2.06-.94-2.06-.94L8.5 2.5l-.94 2.06-2.06.94zm10 10l.94 2.06.94-2.06 2.06-.94-2.06-.94-.94-2.06-.94 2.06-2.06.94z\"/><path d=\"M17.41 7.96l-1.37-1.37c-.4-.4-.92-.59-1.43-.59-.52 0-1.04.2-1.43.59L10.3 9.45l-7.72 7.72c-.78.78-.78 2.05 0 2.83L4 21.41c.39.39.9.59 1.41.59.51 0 1.02-.2 1.41-.59l7.78-7.78 2.81-2.81c.8-.78.8-2.07 0-2.86zM5.41 20L4 18.59l7.72-7.72 1.47 1.35L5.41 20z\"/>\n",
              "  </svg>\n",
              "      </button>\n",
              "      \n",
              "  <style>\n",
              "    .colab-df-container {\n",
              "      display:flex;\n",
              "      flex-wrap:wrap;\n",
              "      gap: 12px;\n",
              "    }\n",
              "\n",
              "    .colab-df-convert {\n",
              "      background-color: #E8F0FE;\n",
              "      border: none;\n",
              "      border-radius: 50%;\n",
              "      cursor: pointer;\n",
              "      display: none;\n",
              "      fill: #1967D2;\n",
              "      height: 32px;\n",
              "      padding: 0 0 0 0;\n",
              "      width: 32px;\n",
              "    }\n",
              "\n",
              "    .colab-df-convert:hover {\n",
              "      background-color: #E2EBFA;\n",
              "      box-shadow: 0px 1px 2px rgba(60, 64, 67, 0.3), 0px 1px 3px 1px rgba(60, 64, 67, 0.15);\n",
              "      fill: #174EA6;\n",
              "    }\n",
              "\n",
              "    [theme=dark] .colab-df-convert {\n",
              "      background-color: #3B4455;\n",
              "      fill: #D2E3FC;\n",
              "    }\n",
              "\n",
              "    [theme=dark] .colab-df-convert:hover {\n",
              "      background-color: #434B5C;\n",
              "      box-shadow: 0px 1px 3px 1px rgba(0, 0, 0, 0.15);\n",
              "      filter: drop-shadow(0px 1px 2px rgba(0, 0, 0, 0.3));\n",
              "      fill: #FFFFFF;\n",
              "    }\n",
              "  </style>\n",
              "\n",
              "      <script>\n",
              "        const buttonEl =\n",
              "          document.querySelector('#df-fdfb1688-4897-451d-8c4f-4fbe1cffe363 button.colab-df-convert');\n",
              "        buttonEl.style.display =\n",
              "          google.colab.kernel.accessAllowed ? 'block' : 'none';\n",
              "\n",
              "        async function convertToInteractive(key) {\n",
              "          const element = document.querySelector('#df-fdfb1688-4897-451d-8c4f-4fbe1cffe363');\n",
              "          const dataTable =\n",
              "            await google.colab.kernel.invokeFunction('convertToInteractive',\n",
              "                                                     [key], {});\n",
              "          if (!dataTable) return;\n",
              "\n",
              "          const docLinkHtml = 'Like what you see? Visit the ' +\n",
              "            '<a target=\"_blank\" href=https://colab.research.google.com/notebooks/data_table.ipynb>data table notebook</a>'\n",
              "            + ' to learn more about interactive tables.';\n",
              "          element.innerHTML = '';\n",
              "          dataTable['output_type'] = 'display_data';\n",
              "          await google.colab.output.renderOutput(dataTable, element);\n",
              "          const docLink = document.createElement('div');\n",
              "          docLink.innerHTML = docLinkHtml;\n",
              "          element.appendChild(docLink);\n",
              "        }\n",
              "      </script>\n",
              "    </div>\n",
              "  </div>\n",
              "  "
            ],
            "text/plain": [
              "   Unnamed: 0      loss  accuracy  val_loss  val_accuracy\n",
              "1           0  1.362457  0.591716  0.966463      0.719634\n",
              "2           1  0.977542  0.675066  0.664124      0.790684"
            ]
          },
          "metadata": {},
          "execution_count": 22
        }
      ],
      "source": [
        "vgg16_history_frame = pd.read_csv(\"vgg16_history.csv\")\n",
        "vgg16_history_frame.index  = np.arange(1,16) \n",
        "vgg16_history_frame.head(2)"
      ]
    },
    {
      "cell_type": "code",
      "execution_count": null,
      "metadata": {
        "id": "23D0zs-THhio",
        "colab": {
          "base_uri": "https://localhost:8080/",
          "height": 621
        },
        "outputId": "373f02d9-a52f-4af0-b508-2c6bf71fb592"
      },
      "outputs": [
        {
          "output_type": "display_data",
          "data": {
            "image/png": "[encoded data removed]",
            "text/plain": [
              "<Figure size 720x720 with 2 Axes>"
            ]
          },
          "metadata": {
            "needs_background": "light"
          }
        }
      ],
      "source": [
        "plt.figure(figsize=(10, 10))\n",
        "plt.subplot(2, 1, 1)\n",
        "plt.plot(vgg16_history_frame['accuracy'], label='Training Accuracy')\n",
        "plt.plot(vgg16_history_frame['val_accuracy'], label='Validation Accuracy')\n",
        "plt.legend(loc='lower right')\n",
        "plt.title('Training and Validation Accuracy')\n",
        "\n",
        "plt.subplot(2, 1, 2)\n",
        "plt.plot(vgg16_history_frame['loss'], label='Training Loss')\n",
        "plt.plot(vgg16_history_frame['val_loss'], label='Validation Loss')\n",
        "plt.legend(loc='upper right')\n",
        "plt.title('Training and Validation Loss')\n",
        "plt.xlabel('Epoch')\n",
        "plt.show()"
      ]
    },
    {
      "cell_type": "markdown",
      "metadata": {
        "id": "XE3njFo4HosU"
      },
      "source": [
        "# **Fine-Tuning**"
      ]
    },
    {
      "cell_type": "code",
      "execution_count": null,
      "metadata": {
        "id": "fP1pmvtrIOSf"
      },
      "outputs": [],
      "source": [
        "basemodel.trainable = True"
      ]
    },
    {
      "cell_type": "code",
      "execution_count": null,
      "metadata": {
        "id": "Rt1JxESIIY2t",
        "colab": {
          "base_uri": "https://localhost:8080/"
        },
        "outputId": "9454aa84-715c-41b8-8cdd-254ceeff1e3f"
      },
      "outputs": [
        {
          "output_type": "stream",
          "name": "stdout",
          "text": [
            "0 <keras.engine.input_layer.InputLayer object at 0x7f0cb1258590> True\n",
            "1 <keras.layers.convolutional.Conv2D object at 0x7f0cb123f390> True\n",
            "2 <keras.layers.convolutional.Conv2D object at 0x7f0cb19cb910> True\n",
            "3 <keras.layers.pooling.MaxPooling2D object at 0x7f0bcaa19110> True\n",
            "4 <keras.layers.convolutional.Conv2D object at 0x7f0bcaa06750> True\n",
            "5 <keras.layers.convolutional.Conv2D object at 0x7f0bcd1f3c90> True\n",
            "6 <keras.layers.pooling.MaxPooling2D object at 0x7f0bcd180110> True\n",
            "7 <keras.layers.convolutional.Conv2D object at 0x7f0bcd188810> True\n",
            "8 <keras.layers.convolutional.Conv2D object at 0x7f0bcd0c30d0> True\n",
            "9 <keras.layers.convolutional.Conv2D object at 0x7f0bcd0ba290> True\n",
            "10 <keras.layers.pooling.MaxPooling2D object at 0x7f0bcd0cb3d0> True\n",
            "11 <keras.layers.convolutional.Conv2D object at 0x7f0bcd0cfd50> True\n",
            "12 <keras.layers.convolutional.Conv2D object at 0x7f0cb19cb390> True\n",
            "13 <keras.layers.convolutional.Conv2D object at 0x7f0bcd0ba310> True\n",
            "14 <keras.layers.pooling.MaxPooling2D object at 0x7f0bcd0ca7d0> True\n",
            "15 <keras.layers.convolutional.Conv2D object at 0x7f0bcd0e4610> True\n",
            "16 <keras.layers.convolutional.Conv2D object at 0x7f0bcd0dd3d0> True\n",
            "17 <keras.layers.convolutional.Conv2D object at 0x7f0bcd0cb390> True\n",
            "18 <keras.layers.pooling.MaxPooling2D object at 0x7f0bcd1e6410> True\n"
          ]
        }
      ],
      "source": [
        "for idx,layer in enumerate(basemodel.layers):\n",
        "  print(idx,layer, layer.trainable)"
      ]
    },
    {
      "cell_type": "code",
      "execution_count": null,
      "metadata": {
        "id": "-JfjdTeXIcO9"
      },
      "outputs": [],
      "source": [
        "for layer in basemodel.layers[:-15]:\n",
        "    layer.trainable=False\n",
        "\n",
        "for layer in basemodel.layers[-15:]:\n",
        "  layer.trainable = True"
      ]
    },
    {
      "cell_type": "markdown",
      "metadata": {
        "id": "1Jj2UUzXJnHf"
      },
      "source": [
        "Define Learning Rate"
      ]
    },
    {
      "cell_type": "code",
      "execution_count": null,
      "metadata": {
        "id": "6KpNg9y3Jp6J"
      },
      "outputs": [],
      "source": [
        "def step_decay(epoch):\n",
        "    initial_lr = 1e-2 \n",
        "    \n",
        "    if epoch < 9: \n",
        "        return initial_lr\n",
        "    else: \n",
        "        return 0.00008"
      ]
    },
    {
      "cell_type": "code",
      "execution_count": null,
      "metadata": {
        "id": "sMjX0PTqJuAe"
      },
      "outputs": [],
      "source": [
        "import matplotlib.pyplot as plt                        \n",
        "%matplotlib inline  "
      ]
    },
    {
      "cell_type": "code",
      "execution_count": null,
      "metadata": {
        "id": "gcQlk90sJvIL",
        "colab": {
          "base_uri": "https://localhost:8080/",
          "height": 284
        },
        "outputId": "87f9761a-6c92-4f99-ff4f-7bccdce17f04"
      },
      "outputs": [
        {
          "output_type": "execute_result",
          "data": {
            "text/plain": [
              "[<matplotlib.lines.Line2D at 0x7f0bcc270790>]"
            ]
          },
          "metadata": {},
          "execution_count": 29
        },
        {
          "output_type": "display_data",
          "data": {
            "image/png": "[encoded data removed]",
            "text/plain": [
              "<Figure size 432x288 with 1 Axes>"
            ]
          },
          "metadata": {
            "needs_background": "light"
          }
        }
      ],
      "source": [
        "x = [i for i in range(20)]\n",
        "y = [step_decay(i) for i in range(20)]\n",
        "plt.plot(x, y)"
      ]
    },
    {
      "cell_type": "code",
      "execution_count": null,
      "metadata": {
        "id": "WP06i5BVJw0T"
      },
      "outputs": [],
      "source": [
        "# from tensorflow.keras.optimizers import SGD\n",
        "from keras.callbacks import LearningRateScheduler\n",
        "from keras.metrics import top_k_categorical_accuracy\n",
        "import math\n",
        "\n",
        "# add LearningRateScheduler to update it\n",
        "lr_scheduler = LearningRateScheduler(step_decay)\n",
        "\n",
        "# calculate top_5_accuracy to evalute the model \n",
        "def top_5_accuracy(y_true, y_pred): \n",
        "    return top_k_categorical_accuracy(y_true, y_pred, k=5)"
      ]
    },
    {
      "cell_type": "code",
      "execution_count": null,
      "metadata": {
        "id": "zpe6TCNaI8AY"
      },
      "outputs": [],
      "source": [
        "from tensorflow.keras.optimizers import Adam\n",
        "\n",
        "opt =  tensorflow.keras.optimizers.Adam(learning_rate=.0001)\n",
        "\n",
        "model.compile(\n",
        "    optimizer=opt,\n",
        "    loss='categorical_crossentropy', \n",
        "    metrics=['accuracy']\n",
        ")"
      ]
    },
    {
      "cell_type": "code",
      "execution_count": null,
      "metadata": {
        "id": "zy-64FV3I6nu"
      },
      "outputs": [],
      "source": [
        "from keras.callbacks import EarlyStopping\n",
        "earlystopping = EarlyStopping(\n",
        "    monitor = 'val_accuracy', \n",
        "    min_delta = 0.01,\n",
        "    patience = 10,\n",
        "    restore_best_weights = True,\n",
        ")"
      ]
    },
    {
      "cell_type": "code",
      "execution_count": null,
      "metadata": {
        "id": "0MVrT5-QIsHg"
      },
      "outputs": [],
      "source": [
        "anne = ReduceLROnPlateau(monitor='val_accuracy', factor=0.5, patience=5, verbose=1, min_lr=1e-3)\n",
        "model_file=('/content/drive/My Drive/Food-11 image dataset/MODEL_VGG-16_FT-{epoch:02d}-{val_accuracy:.2f}.hdf5')\n",
        "\n",
        "checkpoint_ft = ModelCheckpoint(filepath=model_file, monitor='val_accuracy', verbose=1, save_best_only=True, mode='max')\n",
        "callbacks_list_ft = [checkpoint_ft]"
      ]
    },
    {
      "cell_type": "code",
      "execution_count": null,
      "metadata": {
        "id": "fu73rqSsI_Xr",
        "colab": {
          "base_uri": "https://localhost:8080/"
        },
        "outputId": "687bad4b-9a09-4eb5-a413-0612ed8a95c3"
      },
      "outputs": [
        {
          "output_type": "stream",
          "name": "stdout",
          "text": [
            "Epoch 1/15\n",
            "154/154 [==============================] - ETA: 0s - loss: 0.8204 - accuracy: 0.7354\n",
            "Epoch 1: val_accuracy improved from -inf to 0.68308, saving model to /content/drive/My Drive/Food-11 image dataset/MODEL_VGG-16_FT-01-0.68.hdf5\n",
            "154/154 [==============================] - 321s 2s/step - loss: 0.8204 - accuracy: 0.7354 - val_loss: 1.0837 - val_accuracy: 0.6831 - lr: 1.0000e-04\n",
            "Epoch 2/15\n",
            "154/154 [==============================] - ETA: 0s - loss: 0.6098 - accuracy: 0.8009\n",
            "Epoch 2: val_accuracy improved from 0.68308 to 0.82754, saving model to /content/drive/My Drive/Food-11 image dataset/MODEL_VGG-16_FT-02-0.83.hdf5\n",
            "154/154 [==============================] - 307s 2s/step - loss: 0.6098 - accuracy: 0.8009 - val_loss: 0.5598 - val_accuracy: 0.8275 - lr: 1.0000e-04\n",
            "Epoch 3/15\n",
            "154/154 [==============================] - ETA: 0s - loss: 0.5360 - accuracy: 0.8310\n",
            "Epoch 3: val_accuracy did not improve from 0.82754\n",
            "154/154 [==============================] - 306s 2s/step - loss: 0.5360 - accuracy: 0.8310 - val_loss: 0.6702 - val_accuracy: 0.7863 - lr: 1.0000e-04\n",
            "Epoch 4/15\n",
            "154/154 [==============================] - ETA: 0s - loss: 0.4725 - accuracy: 0.8469\n",
            "Epoch 4: val_accuracy did not improve from 0.82754\n",
            "154/154 [==============================] - 308s 2s/step - loss: 0.4725 - accuracy: 0.8469 - val_loss: 0.6469 - val_accuracy: 0.8037 - lr: 1.0000e-04\n",
            "Epoch 5/15\n",
            "154/154 [==============================] - ETA: 0s - loss: 0.4356 - accuracy: 0.8592\n",
            "Epoch 5: val_accuracy improved from 0.82754 to 0.84640, saving model to /content/drive/My Drive/Food-11 image dataset/MODEL_VGG-16_FT-05-0.85.hdf5\n",
            "154/154 [==============================] - 304s 2s/step - loss: 0.4356 - accuracy: 0.8592 - val_loss: 0.4725 - val_accuracy: 0.8464 - lr: 1.0000e-04\n",
            "Epoch 6/15\n",
            "154/154 [==============================] - ETA: 0s - loss: 0.3943 - accuracy: 0.8769\n",
            "Epoch 6: val_accuracy did not improve from 0.84640\n",
            "154/154 [==============================] - 304s 2s/step - loss: 0.3943 - accuracy: 0.8769 - val_loss: 0.5636 - val_accuracy: 0.8264 - lr: 1.0000e-04\n",
            "Epoch 7/15\n",
            "154/154 [==============================] - ETA: 0s - loss: 0.3629 - accuracy: 0.8861\n",
            "Epoch 7: val_accuracy did not improve from 0.84640\n",
            "154/154 [==============================] - 303s 2s/step - loss: 0.3629 - accuracy: 0.8861 - val_loss: 0.5020 - val_accuracy: 0.8414 - lr: 1.0000e-04\n",
            "Epoch 8/15\n",
            "154/154 [==============================] - ETA: 0s - loss: 0.3422 - accuracy: 0.8884\n",
            "Epoch 8: val_accuracy did not improve from 0.84640\n",
            "154/154 [==============================] - 313s 2s/step - loss: 0.3422 - accuracy: 0.8884 - val_loss: 0.5801 - val_accuracy: 0.8249 - lr: 1.0000e-04\n",
            "Epoch 9/15\n",
            "154/154 [==============================] - ETA: 0s - loss: 0.3304 - accuracy: 0.8955\n",
            "Epoch 9: val_accuracy improved from 0.84640 to 0.86203, saving model to /content/drive/My Drive/Food-11 image dataset/MODEL_VGG-16_FT-09-0.86.hdf5\n",
            "154/154 [==============================] - 314s 2s/step - loss: 0.3304 - accuracy: 0.8955 - val_loss: 0.4662 - val_accuracy: 0.8620 - lr: 1.0000e-04\n",
            "Epoch 10/15\n",
            "154/154 [==============================] - ETA: 0s - loss: 0.3172 - accuracy: 0.8998\n",
            "Epoch 10: val_accuracy did not improve from 0.86203\n",
            "154/154 [==============================] - 317s 2s/step - loss: 0.3172 - accuracy: 0.8998 - val_loss: 0.5497 - val_accuracy: 0.8334 - lr: 1.0000e-04\n",
            "Epoch 11/15\n",
            "154/154 [==============================] - ETA: 0s - loss: 0.2980 - accuracy: 0.9050\n",
            "Epoch 11: val_accuracy did not improve from 0.86203\n",
            "154/154 [==============================] - 314s 2s/step - loss: 0.2980 - accuracy: 0.9050 - val_loss: 0.5362 - val_accuracy: 0.8449 - lr: 1.0000e-04\n",
            "Epoch 12/15\n",
            "154/154 [==============================] - ETA: 0s - loss: 0.2596 - accuracy: 0.9192\n",
            "Epoch 12: val_accuracy did not improve from 0.86203\n",
            "154/154 [==============================] - 308s 2s/step - loss: 0.2596 - accuracy: 0.9192 - val_loss: 0.4794 - val_accuracy: 0.8455 - lr: 1.0000e-04\n",
            "Epoch 13/15\n",
            "154/154 [==============================] - ETA: 0s - loss: 0.2528 - accuracy: 0.9233\n",
            "Epoch 13: val_accuracy did not improve from 0.86203\n",
            "154/154 [==============================] - 309s 2s/step - loss: 0.2528 - accuracy: 0.9233 - val_loss: 0.6089 - val_accuracy: 0.8228 - lr: 1.0000e-04\n",
            "Epoch 14/15\n",
            "154/154 [==============================] - ETA: 0s - loss: 0.2316 - accuracy: 0.9257\n",
            "Epoch 14: val_accuracy did not improve from 0.86203\n",
            "154/154 [==============================] - 312s 2s/step - loss: 0.2316 - accuracy: 0.9257 - val_loss: 0.5198 - val_accuracy: 0.8473 - lr: 1.0000e-04\n",
            "Epoch 15/15\n",
            "154/154 [==============================] - ETA: 0s - loss: 0.2659 - accuracy: 0.9169\n",
            "Epoch 15: val_accuracy did not improve from 0.86203\n",
            "154/154 [==============================] - 313s 2s/step - loss: 0.2659 - accuracy: 0.9169 - val_loss: 0.4796 - val_accuracy: 0.8438 - lr: 1.0000e-04\n"
          ]
        }
      ],
      "source": [
        "# fine tune the already trained model\n",
        "vgg16_ft_history = model.fit(\n",
        "    train_generator, \n",
        "    batch_size=64,\n",
        "    steps_per_epoch = train_generator.n//train_generator.batch_size, \n",
        "    epochs = 15,  \n",
        "    validation_data = validate_generator,\n",
        "    validation_steps = validate_generator.n // validate_generator.batch_size,\n",
        "    callbacks = [checkpoint_ft, earlystopping, anne],\n",
        "    verbose=1\n",
        ")"
      ]
    },
    {
      "cell_type": "code",
      "execution_count": null,
      "metadata": {
        "id": "1t2K5pnpJE5a"
      },
      "outputs": [],
      "source": [
        "vgg16_ft_history_frame = pd.DataFrame(vgg16_ft_history.history)"
      ]
    },
    {
      "cell_type": "code",
      "execution_count": null,
      "metadata": {
        "id": "vrygFGQEJHQ9",
        "colab": {
          "base_uri": "https://localhost:8080/"
        },
        "outputId": "cbbb7c99-6749-469c-f083-728f0d27396c"
      },
      "outputs": [
        {
          "output_type": "stream",
          "name": "stdout",
          "text": [
            "/bin/bash: -c: line 0: syntax error near unexpected token `('\n",
            "/bin/bash: -c: line 0: `cp vgg16_ft_history_frame.to_csv(\"vgg16ft_history_frame.csv\")'\n"
          ]
        }
      ],
      "source": [
        "vgg16_ft_history_frame.to_csv(\"vgg16_ft_history_frame.csv\")\n",
        "!cp vgg16_ft_history_frame.to_csv(\"vgg16ft_history_frame.csv\")\n"
      ]
    },
    {
      "cell_type": "code",
      "execution_count": null,
      "metadata": {
        "id": "_InQHKa_JQnM",
        "colab": {
          "base_uri": "https://localhost:8080/",
          "height": 112
        },
        "outputId": "f2cd1b2d-546e-4175-8081-99b0e3d5bcf7"
      },
      "outputs": [
        {
          "output_type": "execute_result",
          "data": {
            "text/html": [
              "\n",
              "  <div id=\"df-ca4920a5-921d-46a8-b192-d6349b6456fe\">\n",
              "    <div class=\"colab-df-container\">\n",
              "      <div>\n",
              "<style scoped>\n",
              "    .dataframe tbody tr th:only-of-type {\n",
              "        vertical-align: middle;\n",
              "    }\n",
              "\n",
              "    .dataframe tbody tr th {\n",
              "        vertical-align: top;\n",
              "    }\n",
              "\n",
              "    .dataframe thead th {\n",
              "        text-align: right;\n",
              "    }\n",
              "</style>\n",
              "<table border=\"1\" class=\"dataframe\">\n",
              "  <thead>\n",
              "    <tr style=\"text-align: right;\">\n",
              "      <th></th>\n",
              "      <th>loss</th>\n",
              "      <th>accuracy</th>\n",
              "      <th>val_loss</th>\n",
              "      <th>val_accuracy</th>\n",
              "      <th>lr</th>\n",
              "    </tr>\n",
              "  </thead>\n",
              "  <tbody>\n",
              "    <tr>\n",
              "      <th>1</th>\n",
              "      <td>0.820365</td>\n",
              "      <td>0.735360</td>\n",
              "      <td>1.083675</td>\n",
              "      <td>0.683078</td>\n",
              "      <td>0.0001</td>\n",
              "    </tr>\n",
              "    <tr>\n",
              "      <th>2</th>\n",
              "      <td>0.609784</td>\n",
              "      <td>0.800857</td>\n",
              "      <td>0.559824</td>\n",
              "      <td>0.827535</td>\n",
              "      <td>0.0001</td>\n",
              "    </tr>\n",
              "  </tbody>\n",
              "</table>\n",
              "</div>\n",
              "      <button class=\"colab-df-convert\" onclick=\"convertToInteractive('df-ca4920a5-921d-46a8-b192-d6349b6456fe')\"\n",
              "              title=\"Convert this dataframe to an interactive table.\"\n",
              "              style=\"display:none;\">\n",
              "        \n",
              "  <svg xmlns=\"http://www.w3.org/2000/svg\" height=\"24px\"viewBox=\"0 0 24 24\"\n",
              "       width=\"24px\">\n",
              "    <path d=\"M0 0h24v24H0V0z\" fill=\"none\"/>\n",
              "    <path d=\"M18.56 5.44l.94 2.06.94-2.06 2.06-.94-2.06-.94-.94-2.06-.94 2.06-2.06.94zm-11 1L8.5 8.5l.94-2.06 2.06-.94-2.06-.94L8.5 2.5l-.94 2.06-2.06.94zm10 10l.94 2.06.94-2.06 2.06-.94-2.06-.94-.94-2.06-.94 2.06-2.06.94z\"/><path d=\"M17.41 7.96l-1.37-1.37c-.4-.4-.92-.59-1.43-.59-.52 0-1.04.2-1.43.59L10.3 9.45l-7.72 7.72c-.78.78-.78 2.05 0 2.83L4 21.41c.39.39.9.59 1.41.59.51 0 1.02-.2 1.41-.59l7.78-7.78 2.81-2.81c.8-.78.8-2.07 0-2.86zM5.41 20L4 18.59l7.72-7.72 1.47 1.35L5.41 20z\"/>\n",
              "  </svg>\n",
              "      </button>\n",
              "      \n",
              "  <style>\n",
              "    .colab-df-container {\n",
              "      display:flex;\n",
              "      flex-wrap:wrap;\n",
              "      gap: 12px;\n",
              "    }\n",
              "\n",
              "    .colab-df-convert {\n",
              "      background-color: #E8F0FE;\n",
              "      border: none;\n",
              "      border-radius: 50%;\n",
              "      cursor: pointer;\n",
              "      display: none;\n",
              "      fill: #1967D2;\n",
              "      height: 32px;\n",
              "      padding: 0 0 0 0;\n",
              "      width: 32px;\n",
              "    }\n",
              "\n",
              "    .colab-df-convert:hover {\n",
              "      background-color: #E2EBFA;\n",
              "      box-shadow: 0px 1px 2px rgba(60, 64, 67, 0.3), 0px 1px 3px 1px rgba(60, 64, 67, 0.15);\n",
              "      fill: #174EA6;\n",
              "    }\n",
              "\n",
              "    [theme=dark] .colab-df-convert {\n",
              "      background-color: #3B4455;\n",
              "      fill: #D2E3FC;\n",
              "    }\n",
              "\n",
              "    [theme=dark] .colab-df-convert:hover {\n",
              "      background-color: #434B5C;\n",
              "      box-shadow: 0px 1px 3px 1px rgba(0, 0, 0, 0.15);\n",
              "      filter: drop-shadow(0px 1px 2px rgba(0, 0, 0, 0.3));\n",
              "      fill: #FFFFFF;\n",
              "    }\n",
              "  </style>\n",
              "\n",
              "      <script>\n",
              "        const buttonEl =\n",
              "          document.querySelector('#df-ca4920a5-921d-46a8-b192-d6349b6456fe button.colab-df-convert');\n",
              "        buttonEl.style.display =\n",
              "          google.colab.kernel.accessAllowed ? 'block' : 'none';\n",
              "\n",
              "        async function convertToInteractive(key) {\n",
              "          const element = document.querySelector('#df-ca4920a5-921d-46a8-b192-d6349b6456fe');\n",
              "          const dataTable =\n",
              "            await google.colab.kernel.invokeFunction('convertToInteractive',\n",
              "                                                     [key], {});\n",
              "          if (!dataTable) return;\n",
              "\n",
              "          const docLinkHtml = 'Like what you see? Visit the ' +\n",
              "            '<a target=\"_blank\" href=https://colab.research.google.com/notebooks/data_table.ipynb>data table notebook</a>'\n",
              "            + ' to learn more about interactive tables.';\n",
              "          element.innerHTML = '';\n",
              "          dataTable['output_type'] = 'display_data';\n",
              "          await google.colab.output.renderOutput(dataTable, element);\n",
              "          const docLink = document.createElement('div');\n",
              "          docLink.innerHTML = docLinkHtml;\n",
              "          element.appendChild(docLink);\n",
              "        }\n",
              "      </script>\n",
              "    </div>\n",
              "  </div>\n",
              "  "
            ],
            "text/plain": [
              "       loss  accuracy  val_loss  val_accuracy      lr\n",
              "1  0.820365  0.735360  1.083675      0.683078  0.0001\n",
              "2  0.609784  0.800857  0.559824      0.827535  0.0001"
            ]
          },
          "metadata": {},
          "execution_count": 37
        }
      ],
      "source": [
        "vgg16ft_history_frame = pd.read_csv(\"vgg16_ft_history_frame.csv\")\n",
        "vgg16_ft_history_frame.index = np.arange(1,16)\n",
        "vgg16_ft_history_frame.head(2)"
      ]
    },
    {
      "cell_type": "code",
      "execution_count": null,
      "metadata": {
        "id": "l-KnW5pTJYyt"
      },
      "outputs": [],
      "source": [
        "vgg16_full_history = pd.concat([vgg16_ft_history_frame], axis=0)"
      ]
    },
    {
      "cell_type": "code",
      "execution_count": null,
      "metadata": {
        "id": "_lHkVL9sJb9J",
        "colab": {
          "base_uri": "https://localhost:8080/",
          "height": 621
        },
        "outputId": "1c54c6b5-7a76-4bbd-ebe5-3cb8abdabc43"
      },
      "outputs": [
        {
          "output_type": "display_data",
          "data": {
            "image/png": "[encoded data removed]",
            "text/plain": [
              "<Figure size 720x720 with 2 Axes>"
            ]
          },
          "metadata": {
            "needs_background": "light"
          }
        }
      ],
      "source": [
        "acc = vgg16_full_history[\"accuracy\"]\n",
        "val_acc = vgg16_full_history['val_accuracy']\n",
        "\n",
        "loss = vgg16_full_history['loss']\n",
        "val_loss = vgg16_full_history['val_loss']\n",
        "\n",
        "plt.figure(figsize=(10, 10))\n",
        "plt.subplot(2, 1, 1)\n",
        "plt.plot(acc, label='Training Accuracy')\n",
        "plt.plot(val_acc, label='Validation Accuracy')\n",
        "\n",
        "plt.legend(loc='lower right')\n",
        "plt.title('Training and Validation Accuracy')\n",
        "\n",
        "plt.subplot(2, 1, 2)\n",
        "plt.plot(loss, label='Training Loss')\n",
        "plt.plot(val_loss, label='Validation Loss')\n",
        "\n",
        "plt.legend(loc='upper right')\n",
        "plt.title('Training and Validation Loss')\n",
        "plt.xlabel('Epoch')\n",
        "plt.show()"
      ]
    },
    {
      "cell_type": "markdown",
      "metadata": {
        "id": "3_JR6CFRKKoD"
      },
      "source": [
        "# **Evaluation of Model  using Test Generator**"
      ]
    },
    {
      "cell_type": "code",
      "source": [
        "# a function to evaluate the prediction of dataset from a given model\n",
        "def model_evaluation(model, generator):\n",
        "  generator.reset() # There is a reset() method for the datagenerators which resets it to the first batch. So whenever you would want to correlate the model output with the filenames you need to set shuffle as False and reset the datagenerator before performing any prediction. This will ensure that our files are being read properly and there is nothing wrong with them.\n",
        "\n",
        "  true_classes = generator.classes\n",
        "  class_indices = dict((v,k) for k,v in generator.class_indices.items())\n",
        "  preds = model.predict(generator)\n",
        "  preds_classes = np.argmax(preds, axis=1)\n",
        "  return [true_classes, preds_classes, generator.class_indices.keys()]"
      ],
      "metadata": {
        "id": "_8g2ZySioZj9"
      },
      "execution_count": null,
      "outputs": []
    },
    {
      "cell_type": "code",
      "source": [
        "# for the prediction made, this function prints a confusion matrix \n",
        "def plot_confusion_matrix(true_classes, preds_classes, target_names):\n",
        "  cm = confusion_matrix(true_classes, preds_classes)\n",
        "\n",
        "  df_cm = pd.DataFrame(cm, columns=target_names, index = target_names)\n",
        "  plt.figure(figsize=(12,12))\n",
        "  sns.set(font_scale=1.4) # for label size\n",
        "  sns.heatmap(df_cm, annot=True, fmt='g', cbar=False, cmap=\"rocket_r\") # font size , annot_kws={\"size\": 16}\n",
        "  plt.title('Confusion Matrix\\n', y=1.1)\n",
        "  plt.ylabel('Actual Label\\n')\n",
        "  plt.xlabel('Predicted Label\\n')\n",
        "\n",
        "  plt.show()"
      ],
      "metadata": {
        "id": "6k7O76Ezxqnm"
      },
      "execution_count": null,
      "outputs": []
    },
    {
      "cell_type": "code",
      "source": [
        "from sklearn.metrics import accuracy_score, classification_report, confusion_matrix\n",
        "result = model_evaluation(model, test_generator)\n",
        "true_classes, preds_classes, target_names = result[0], result[1], result[2]\n",
        "test_ft_acc=accuracy_score(true_classes, preds_classes) \n",
        "print(\"Vgg-16 WITH Fine-Tuning on Testing Set has Accuracy: {:.2f}%\".format(test_ft_acc * 100))"
      ],
      "metadata": {
        "colab": {
          "base_uri": "https://localhost:8080/"
        },
        "id": "Ug6ChLs-opXd",
        "outputId": "42c99898-f2f8-4593-f81d-75c277adb637"
      },
      "execution_count": null,
      "outputs": [
        {
          "output_type": "stream",
          "name": "stdout",
          "text": [
            "Vgg-16 WITH Fine-Tuning on Testing Set has Accuracy: 87.00%\n"
          ]
        }
      ]
    },
    {
      "cell_type": "code",
      "source": [
        "print(classification_report(true_classes, preds_classes,target_names =  target_names))"
      ],
      "metadata": {
        "colab": {
          "base_uri": "https://localhost:8080/"
        },
        "id": "s2c0VX8Cvdqk",
        "outputId": "b3b8f2a8-a0c0-4217-ff61-97fdf55e3786"
      },
      "execution_count": null,
      "outputs": [
        {
          "output_type": "stream",
          "name": "stdout",
          "text": [
            "                 precision    recall  f1-score   support\n",
            "\n",
            "          Bread       0.88      0.72      0.79       368\n",
            "  Dairy product       0.86      0.74      0.79       148\n",
            "        Dessert       0.77      0.90      0.83       500\n",
            "            Egg       0.89      0.90      0.89       335\n",
            "     Fried food       0.98      0.69      0.81       287\n",
            "           Meat       0.73      0.96      0.83       432\n",
            "  Noodles-Pasta       0.97      0.98      0.98       147\n",
            "           Rice       0.99      0.90      0.94        96\n",
            "        Seafood       0.93      0.89      0.91       303\n",
            "           Soup       0.99      0.90      0.94       500\n",
            "Vegetable-Fruit       0.94      0.98      0.96       231\n",
            "\n",
            "       accuracy                           0.87      3347\n",
            "      macro avg       0.90      0.87      0.88      3347\n",
            "   weighted avg       0.88      0.87      0.87      3347\n",
            "\n"
          ]
        }
      ]
    },
    {
      "cell_type": "code",
      "source": [
        "from sklearn.metrics import accuracy_score, classification_report, confusion_matrix\n",
        "plot_confusion_matrix(true_classes, preds_classes, target_names)"
      ],
      "metadata": {
        "colab": {
          "base_uri": "https://localhost:8080/",
          "height": 769
        },
        "id": "i1OQb54Cvfz-",
        "outputId": "1a3fd2ce-a05b-402a-8f92-2c076918535d"
      },
      "execution_count": null,
      "outputs": [
        {
          "output_type": "display_data",
          "data": {
            "image/png": "[encoded data removed]",
            "text/plain": [
              "<Figure size 864x864 with 1 Axes>"
            ]
          },
          "metadata": {
            "needs_background": "light"
          }
        }
      ]
    }
  ],
  "metadata": {
    "colab": {
      "collapsed_sections": [],
      "name": "2_VGG_16_Food_Classification.ipynb",
      "provenance": []
    },
    "kernelspec": {
      "display_name": "Python 3",
      "name": "python3"
    },
    "language_info": {
      "name": "python"
    },
    "accelerator": "GPU"
  },
  "nbformat": 4,
  "nbformat_minor": 0
}